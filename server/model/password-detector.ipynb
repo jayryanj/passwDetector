{
 "cells": [
  {
   "metadata": {},
   "cell_type": "markdown",
   "source": "## Import necessary libraries",
   "id": "6fc991919a4497e2"
  },
  {
   "cell_type": "code",
   "id": "initial_id",
   "metadata": {
    "collapsed": true,
    "ExecuteTime": {
     "end_time": "2024-10-25T02:30:10.375905Z",
     "start_time": "2024-10-25T02:30:07.441128Z"
    }
   },
   "source": [
    "import numpy as np\n",
    "import pandas as pd\n",
    "import joblib\n",
    "from sklearn.ensemble import RandomForestClassifier\n",
    "from sklearn.feature_extraction.text import TfidfVectorizer\n",
    "from sklearn.model_selection import train_test_split"
   ],
   "outputs": [],
   "execution_count": 1
  },
  {
   "metadata": {},
   "cell_type": "markdown",
   "source": [
    "## Data Exploration\n",
    "Next, we'll import our dataset which is a csv with two columns: [password, strength]\n",
    "The strength is represented as an integer between 0-2 (0 - weak, 1 - medium, 2 - strong).\n",
    "Our dataset contains almost 670k passwords which will be used to train and test our model."
   ],
   "id": "3683b62680055be9"
  },
  {
   "metadata": {
    "ExecuteTime": {
     "end_time": "2024-10-25T02:30:11.157281Z",
     "start_time": "2024-10-25T02:30:10.421358Z"
    }
   },
   "cell_type": "code",
   "source": [
    "dataset = pd.read_csv(\"cleaned_password_strength_dataset.csv\", on_bad_lines='skip')\n",
    "dataset.head()"
   ],
   "id": "77480d219e840ef3",
   "outputs": [
    {
     "data": {
      "text/plain": [
       "      password  strength\n",
       "0     kzde5577         1\n",
       "1     kino3434         1\n",
       "2    visi7k1yr         1\n",
       "3     megzy123         1\n",
       "4  lamborghin1         1"
      ],
      "text/html": [
       "<div>\n",
       "<style scoped>\n",
       "    .dataframe tbody tr th:only-of-type {\n",
       "        vertical-align: middle;\n",
       "    }\n",
       "\n",
       "    .dataframe tbody tr th {\n",
       "        vertical-align: top;\n",
       "    }\n",
       "\n",
       "    .dataframe thead th {\n",
       "        text-align: right;\n",
       "    }\n",
       "</style>\n",
       "<table border=\"1\" class=\"dataframe\">\n",
       "  <thead>\n",
       "    <tr style=\"text-align: right;\">\n",
       "      <th></th>\n",
       "      <th>password</th>\n",
       "      <th>strength</th>\n",
       "    </tr>\n",
       "  </thead>\n",
       "  <tbody>\n",
       "    <tr>\n",
       "      <th>0</th>\n",
       "      <td>kzde5577</td>\n",
       "      <td>1</td>\n",
       "    </tr>\n",
       "    <tr>\n",
       "      <th>1</th>\n",
       "      <td>kino3434</td>\n",
       "      <td>1</td>\n",
       "    </tr>\n",
       "    <tr>\n",
       "      <th>2</th>\n",
       "      <td>visi7k1yr</td>\n",
       "      <td>1</td>\n",
       "    </tr>\n",
       "    <tr>\n",
       "      <th>3</th>\n",
       "      <td>megzy123</td>\n",
       "      <td>1</td>\n",
       "    </tr>\n",
       "    <tr>\n",
       "      <th>4</th>\n",
       "      <td>lamborghin1</td>\n",
       "      <td>1</td>\n",
       "    </tr>\n",
       "  </tbody>\n",
       "</table>\n",
       "</div>"
      ]
     },
     "execution_count": 2,
     "metadata": {},
     "output_type": "execute_result"
    }
   ],
   "execution_count": 2
  },
  {
   "metadata": {
    "ExecuteTime": {
     "end_time": "2024-10-25T02:30:11.564981Z",
     "start_time": "2024-10-25T02:30:11.549226Z"
    }
   },
   "cell_type": "code",
   "source": "dataset.shape",
   "id": "5f1a30f4bc706353",
   "outputs": [
    {
     "data": {
      "text/plain": [
       "(669641, 2)"
      ]
     },
     "execution_count": 3,
     "metadata": {},
     "output_type": "execute_result"
    }
   ],
   "execution_count": 3
  },
  {
   "metadata": {
    "ExecuteTime": {
     "end_time": "2024-10-25T02:30:33.975516Z",
     "start_time": "2024-10-25T02:30:11.865068Z"
    }
   },
   "cell_type": "code",
   "source": [
    "# Drop NaN rows\n",
    "dataset.dropna(inplace=True)\n",
    "x = np.array(dataset[\"password\"])\n",
    "y = np.array(dataset[\"strength\"])\n",
    "\n",
    "vectorizer = TfidfVectorizer(analyzer='char', ngram_range=(1, 3), min_df=100)\n",
    "x_vectorized = vectorizer.fit_transform(x)\n",
    "print(x_vectorized.shape)\n",
    "x_train, x_test, y_train, y_test = train_test_split(x_vectorized, y, random_state=2, test_size=0.25)"
   ],
   "id": "6452a6cf484063bc",
   "outputs": [
    {
     "name": "stdout",
     "output_type": "stream",
     "text": [
      "(669640, 11767)\n"
     ]
    }
   ],
   "execution_count": 4
  },
  {
   "metadata": {
    "ExecuteTime": {
     "end_time": "2024-10-25T03:24:44.701760Z",
     "start_time": "2024-10-25T02:30:34.148655Z"
    }
   },
   "cell_type": "code",
   "source": [
    "model = RandomForestClassifier()\n",
    "model.fit(x_train, y_train)\n",
    "joblib.dump({\"model\": model, \"vectorizer\": vectorizer}, 'password_detector_model.pkl')\n",
    "\n",
    "print(model.score(x_test, y_test))\n"
   ],
   "id": "7b207f087c8ec354",
   "outputs": [
    {
     "name": "stdout",
     "output_type": "stream",
     "text": [
      "0.9308703183800251\n"
     ]
    }
   ],
   "execution_count": 5
  },
  {
   "metadata": {
    "ExecuteTime": {
     "end_time": "2024-10-25T03:24:44.838764Z",
     "start_time": "2024-10-25T03:24:44.812644Z"
    }
   },
   "cell_type": "code",
   "source": "print(model.predict(vectorizer.transform([\"123\", \"12Jsk39asIIfm01gh\"])).tolist())",
   "id": "9706a79ea07e428d",
   "outputs": [
    {
     "name": "stdout",
     "output_type": "stream",
     "text": [
      "[0, 1]\n"
     ]
    }
   ],
   "execution_count": 6
  }
 ],
 "metadata": {
  "kernelspec": {
   "display_name": "Python 3",
   "language": "python",
   "name": "python3"
  },
  "language_info": {
   "codemirror_mode": {
    "name": "ipython",
    "version": 2
   },
   "file_extension": ".py",
   "mimetype": "text/x-python",
   "name": "python",
   "nbconvert_exporter": "python",
   "pygments_lexer": "ipython2",
   "version": "2.7.6"
  }
 },
 "nbformat": 4,
 "nbformat_minor": 5
}
